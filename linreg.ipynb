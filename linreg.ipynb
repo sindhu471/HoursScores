{
  "nbformat": 4,
  "nbformat_minor": 0,
  "metadata": {
    "colab": {
      "name": "Untitled1.ipynb",
      "provenance": []
    },
    "kernelspec": {
      "name": "python3",
      "display_name": "Python 3"
    }
  },
  "cells": [
    {
      "cell_type": "code",
      "metadata": {
        "id": "nXxCaVp2c1YN",
        "colab_type": "code",
        "colab": {}
      },
      "source": [
        ""
      ],
      "execution_count": null,
      "outputs": []
    },
    {
      "cell_type": "code",
      "metadata": {
        "id": "1ceqGPIgdA8l",
        "colab_type": "code",
        "colab": {
          "base_uri": "https://localhost:8080/",
          "height": 121
        },
        "outputId": "cebed208-598d-48df-c370-f4568fd82ceb"
      },
      "source": [
        "from google.colab import drive\n",
        "drive.mount('/content/drive')"
      ],
      "execution_count": 4,
      "outputs": [
        {
          "output_type": "stream",
          "text": [
            "Go to this URL in a browser: https://accounts.google.com/o/oauth2/auth?client_id=947318989803-6bn6qk8qdgf4n4g3pfee6491hc0brc4i.apps.googleusercontent.com&redirect_uri=urn%3aietf%3awg%3aoauth%3a2.0%3aoob&scope=email%20https%3a%2f%2fwww.googleapis.com%2fauth%2fdocs.test%20https%3a%2f%2fwww.googleapis.com%2fauth%2fdrive%20https%3a%2f%2fwww.googleapis.com%2fauth%2fdrive.photos.readonly%20https%3a%2f%2fwww.googleapis.com%2fauth%2fpeopleapi.readonly&response_type=code\n",
            "\n",
            "Enter your authorization code:\n",
            "4/3wGxRzqCpzCJT-NQa7W-s8jUa8zpj3vOLbjiov4apsY14nwSGiG1yaM\n",
            "Mounted at /content/drive\n"
          ],
          "name": "stdout"
        }
      ]
    },
    {
      "cell_type": "code",
      "metadata": {
        "id": "1OyBmGZpdWPI",
        "colab_type": "code",
        "colab": {
          "base_uri": "https://localhost:8080/",
          "height": 605
        },
        "outputId": "0368ad89-7f10-4120-c898-4ac6bd31d04c"
      },
      "source": [
        "import pandas as pd\n",
        "import numpy as np  \n",
        "import seaborn as sns \n",
        "#Reading csv file\n",
        "url = \"http://bit.ly/w-data\"\n",
        "score_data=pd.read_csv(url)\n",
        "\n",
        "\n",
        "#creating copy\n",
        "sd=score_data.copy()\n",
        "\n",
        "\n",
        "# structure of dataset\n",
        "sd.info()\n",
        "print(sd)\n"
      ],
      "execution_count": 2,
      "outputs": [
        {
          "output_type": "stream",
          "text": [
            "<class 'pandas.core.frame.DataFrame'>\n",
            "RangeIndex: 25 entries, 0 to 24\n",
            "Data columns (total 2 columns):\n",
            " #   Column  Non-Null Count  Dtype  \n",
            "---  ------  --------------  -----  \n",
            " 0   Hours   25 non-null     float64\n",
            " 1   Scores  25 non-null     int64  \n",
            "dtypes: float64(1), int64(1)\n",
            "memory usage: 528.0 bytes\n",
            "    Hours  Scores\n",
            "0     2.5      21\n",
            "1     5.1      47\n",
            "2     3.2      27\n",
            "3     8.5      75\n",
            "4     3.5      30\n",
            "5     1.5      20\n",
            "6     9.2      88\n",
            "7     5.5      60\n",
            "8     8.3      81\n",
            "9     2.7      25\n",
            "10    7.7      85\n",
            "11    5.9      62\n",
            "12    4.5      41\n",
            "13    3.3      42\n",
            "14    1.1      17\n",
            "15    8.9      95\n",
            "16    2.5      30\n",
            "17    1.9      24\n",
            "18    6.1      67\n",
            "19    7.4      69\n",
            "20    2.7      30\n",
            "21    4.8      54\n",
            "22    3.8      35\n",
            "23    6.9      76\n",
            "24    7.8      86\n"
          ],
          "name": "stdout"
        }
      ]
    },
    {
      "cell_type": "code",
      "metadata": {
        "id": "utOV0X8pdevH",
        "colab_type": "code",
        "colab": {
          "base_uri": "https://localhost:8080/",
          "height": 296
        },
        "outputId": "d11d5d1a-aea4-457e-e47e-cf4d4b772c7c"
      },
      "source": [
        "\n",
        "\n"
      ],
      "execution_count": 42,
      "outputs": [
        {
          "output_type": "execute_result",
          "data": {
            "text/plain": [
              "<matplotlib.axes._subplots.AxesSubplot at 0x7f2aed40d470>"
            ]
          },
          "metadata": {
            "tags": []
          },
          "execution_count": 42
        },
        {
          "output_type": "display_data",
          "data": {
            "image/png": "[encoded data removed]",
            "text/plain": [
              "<Figure size 432x288 with 1 Axes>"
            ]
          },
          "metadata": {
            "tags": [],
            "needs_background": "light"
          }
        }
      ]
    },
    {
      "cell_type": "code",
      "metadata": {
        "id": "q67_Ci4qwcwF",
        "colab_type": "code",
        "colab": {
          "base_uri": "https://localhost:8080/",
          "height": 732
        },
        "outputId": "79e2a12e-680d-4a39-a0eb-2be0a9151dda"
      },
      "source": [
        "#removing duplicate records sd.drop_duplicate(keep='first',inplace=true)\n",
        "\n",
        "#Data cleaning\n",
        "sd=sd.dropna(axis=0)\n",
        "\n",
        "\n",
        "#plotting\n",
        "sns.regplot(x='Hours',y='Scores',scatter=True,fit_reg=False,data =sd)\n",
        "\n",
        "#importing Necessary libraries\n",
        "from sklearn.model_selection import train_test_split\n",
        "from sklearn.linear_model import LinearRegression\n",
        "from sklearn.ensemble import RandomForestRegressor\n",
        "from sklearn.metrics import mean_squared_error\n",
        "\n",
        "\n",
        "# Model Building\n",
        "\n",
        "#seperating input and output features\n",
        "x1=sd.iloc[:, :-1].values \n",
        "y1=sd.iloc[:, 1].values\n",
        "\n",
        "\n",
        "#splitting data into test and train\n",
        "X_train,X_test,Y_train,Y_test=train_test_split(x1,y1,test_size=.3,random_state=0)\n",
        "\n",
        "\n",
        "#Linear Regression\n",
        "lgr=LinearRegression(fit_intercept=True)\n",
        "model_lin1=lgr.fit(X_train,Y_train)\n",
        "prediction=lgr.predict(X_test)\n",
        "\n",
        "#Comuting MSE (Model Evaluation)\n",
        "mse1=mean_squared_error(Y_test,prediction)\n",
        "rmse=np.sqrt(mse1)\n",
        "print(\"Mean Squared Error-  \",rmse)\n",
        "\n",
        "#Regression Dignostics\n",
        "residuals=Y_test-prediction\n",
        "print(\"Residuals - \",residuals)\n",
        "\n",
        "#print the prediction\n",
        "Hours=[[9.25],[9.26]]\n",
        "pred=lgr.predict(Hours)\n",
        "print(\"No of Hours = {}\".format(Hours[0]))\n",
        "print(\"Predicted Score = {}\".format(pred[0]))\n",
        "\n",
        "\n",
        "#plotting\n",
        "sns.lmplot(x=\"Hours\",y=\"Scores\",data=sd)"
      ],
      "execution_count": 5,
      "outputs": [
        {
          "output_type": "stream",
          "text": [
            "Mean Squared Error-   4.7921912746363144\n",
            "Residuals -  [ 2.94633459 -6.69422878 -5.80620886  3.1577679   1.87664117 -4.56736879\n",
            "  3.03090791  7.27836446]\n",
            "No of Hours = [9.25]\n",
            "Predicted Score = 92.91505723477056\n"
          ],
          "name": "stdout"
        },
        {
          "output_type": "execute_result",
          "data": {
            "text/plain": [
              "<seaborn.axisgrid.FacetGrid at 0x7f378e99aa90>"
            ]
          },
          "metadata": {
            "tags": []
          },
          "execution_count": 5
        },
        {
          "output_type": "display_data",
          "data": {
            "image/png": "[encoded data removed]",
            "text/plain": [
              "<Figure size 432x288 with 1 Axes>"
            ]
          },
          "metadata": {
            "tags": [],
            "needs_background": "light"
          }
        },
        {
          "output_type": "display_data",
          "data": {
            "image/png": "[encoded data removed]",
            "text/plain": [
              "<Figure size 360x360 with 1 Axes>"
            ]
          },
          "metadata": {
            "tags": [],
            "needs_background": "light"
          }
        }
      ]
    }
  ]
}